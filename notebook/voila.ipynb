{
 "cells": [
  {
   "cell_type": "markdown",
   "metadata": {},
   "source": [
    "<div style=\"text-align: center; line-height: 0; padding-top: 9px;\">\n",
    "  <img src=\"../img/voila.png\" alt=\"Header\" style=\"width:1220px; height:300px\">\n",
    "</div>"
   ]
  },
  {
   "cell_type": "markdown",
   "metadata": {},
   "source": [
    "## __From Jupyter notebooks to standalone applications or dashboards - Notebook Example__\n",
    "\n",
    "#### By the end of this Tutorial you will be able to install, use and master Jupyter Voilà extention! \n",
    "\n",
    "### __Steps shown in this Notebook:__\n",
    "* #### Voila Introduction.\n",
    "* #### Voila Installation.\n",
    "* #### Voila How it works ?.\n",
    "* #### Voila - Example : Interative web dashboard.\n",
    "* #### __Bonus 💎 : voila-vuetify__"
   ]
  },
  {
   "cell_type": "markdown",
   "metadata": {},
   "source": [
    "## __📖 ![Tiny Logo](../img/voila_.png) Introduction__ "
   ]
  },
  {
   "cell_type": "markdown",
   "metadata": {},
   "source": [
    "----"
   ]
  },
  {
   "cell_type": "markdown",
   "metadata": {},
   "source": [
    "### __Voilà__ turns Jupyter notebooks into standalone web applications.\n",
    "\n",
    "* #### __Voilà__ supports Jupyter interactive widgets, including the roundtrips to the kernel.\n",
    "* #### __Voilà__ does not permit arbitrary code execution by consumers of dashboards.\n",
    "* #### Built upon Jupyter standard protocols and file formats, __voilà__ works with any Jupyter kernel (C++, Python, Julia), making it a language-agnostic dashboarding system.\n",
    "* #### __Voilà__ is extensible. It includes a flexible template system to produce rich application layouts.\n"
   ]
  },
  {
   "cell_type": "markdown",
   "metadata": {},
   "source": [
    "## __🖥 ![Tiny Logo](../img/voila_.png) Installation__ "
   ]
  },
  {
   "cell_type": "markdown",
   "metadata": {},
   "source": [
    "#### There is norecommended way of installing voila both __Conda__ and __Pypi__ works well."
   ]
  },
  {
   "cell_type": "markdown",
   "metadata": {},
   "source": [
    "#### Conda way :"
   ]
  },
  {
   "cell_type": "markdown",
   "metadata": {},
   "source": [
    "```sh \n",
    "$ conda install voila -c conda-forge\n",
    "```"
   ]
  },
  {
   "cell_type": "markdown",
   "metadata": {},
   "source": [
    "#### Pypi way :"
   ]
  },
  {
   "cell_type": "markdown",
   "metadata": {},
   "source": [
    "```sh \n",
    "$ pip install voila\n",
    "```"
   ]
  },
  {
   "cell_type": "markdown",
   "metadata": {},
   "source": [
    "#### For newest release please check Pypi : https://pypi.org/project/voila/ or conda : https://anaconda.org/conda-forge/voila"
   ]
  },
  {
   "cell_type": "markdown",
   "metadata": {},
   "source": [
    "## ![Tiny Logo](../img/voila_.png) __How it works__"
   ]
  },
  {
   "cell_type": "markdown",
   "metadata": {},
   "source": [
    "<div style=\"text-align: center; line-height: 0; padding-top: 9px;\">\n",
    "  <img src=\"../img/stepsDiagram.png\" alt=\"diagram\" style=\"width:1000px; height:400px\">\n",
    "</div>"
   ]
  },
  {
   "cell_type": "markdown",
   "metadata": {},
   "source": [
    "\n",
    "### When Voilà is run on a notebook, the following steps occur:\n",
    "#### 1.  Voilà runs the code in the notebook and collects the outputs\n",
    "#### 2.  The notebook and its outputs are converted to HTML. By default, the notebookcode cells are hidden.\n",
    "#### 3.  This page is served either as a Tornado application, or via the Jupyter server.\n",
    "#### 4.  When users access the page, the widgets on the page have access to the underlying \n",
    "#### It time to mae hands durty, Let's build 🛠 some great webapps and Dashbords"
   ]
  },
  {
   "cell_type": "markdown",
   "metadata": {},
   "source": [
    "## ![Tiny Logo](../img/voila_.png) __- Example : Interactive Web Dashboard__"
   ]
  },
  {
   "cell_type": "markdown",
   "metadata": {},
   "source": [
    "#### You can check the the source code in ``./notebook/dashboard_example.ipynb``"
   ]
  },
  {
   "cell_type": "markdown",
   "metadata": {},
   "source": [
    "<div style=\"text-align: center; line-height: 0; padding-top: 9px;\">\n",
    "  <img src=\"../img/voila.gif\" alt=\"diagram\" style=\"width:1000px; height:500px\">\n",
    "</div>\n"
   ]
  },
  {
   "cell_type": "markdown",
   "metadata": {},
   "source": [
    "# __The Bonus: voila-vuetify 🎉__"
   ]
  },
  {
   "cell_type": "markdown",
   "metadata": {},
   "source": [
    "#### Both __Conda__ and __Pypi__ works well for the installation."
   ]
  },
  {
   "cell_type": "markdown",
   "metadata": {},
   "source": [
    "#### Conda way :"
   ]
  },
  {
   "cell_type": "markdown",
   "metadata": {},
   "source": [
    "```sh \n",
    "$ conda install -c conda-forge voila-vuetify\n",
    "```"
   ]
  },
  {
   "cell_type": "markdown",
   "metadata": {},
   "source": [
    "#### Pypi way :"
   ]
  },
  {
   "cell_type": "markdown",
   "metadata": {},
   "source": [
    "```sh \n",
    "$ pip install voila-vuetify\n",
    "```"
   ]
  },
  {
   "cell_type": "markdown",
   "metadata": {},
   "source": [
    "#### For newest release please check Pypi : https://pypi.org/project/voila/ or conda : https://anaconda.org/conda-forge/voila"
   ]
  },
  {
   "cell_type": "markdown",
   "metadata": {},
   "source": [
    "## __Conclusion__ "
   ]
  },
  {
   "cell_type": "markdown",
   "metadata": {},
   "source": [
    "#### Voila easly transforms the Jupyter notebook to Dashboard application with simple CLI"
   ]
  },
  {
   "cell_type": "markdown",
   "metadata": {},
   "source": [
    "# __Materials and Resources :__  📖 "
   ]
  },
  {
   "cell_type": "markdown",
   "metadata": {},
   "source": [
    "####  __About Voila__ : https://voila.readthedocs.io/en/stable/install.html\n",
    "####  __About voila dashboard GitHub__ :  https://github.com/voila-dashboards/voila\n",
    "####  __About voila-vuetify__ :  https://blog.jupyter.org/and-voil%C3%A0-f6a2c08a4a93"
   ]
  }
 ],
 "metadata": {
  "kernelspec": {
   "display_name": "Python 3",
   "language": "python",
   "name": "python3"
  },
  "language_info": {
   "codemirror_mode": {
    "name": "ipython",
    "version": 3
   },
   "file_extension": ".py",
   "mimetype": "text/x-python",
   "name": "python",
   "nbconvert_exporter": "python",
   "pygments_lexer": "ipython3",
   "version": "3.7.4"
  }
 },
 "nbformat": 4,
 "nbformat_minor": 4
}
